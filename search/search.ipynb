{
 "cells": [
  {
   "cell_type": "code",
   "execution_count": 1,
   "metadata": {
    "collapsed": true,
    "pycharm": {
     "is_executing": false
    }
   },
   "outputs": [
    {
     "name": "stderr",
     "text": [
      "Loading faiss.\n"
     ],
     "output_type": "stream"
    }
   ],
   "source": [
    "import faiss\n",
    "import numpy as np\n",
    "import joblib\n",
    "from model.siamese_model import *\n",
    "from util.audio_processor import compute_melgram, compute_melgram_multi_slice\n",
    "import torch\n",
    "from sklearn.neighbors import BallTree\n",
    "from util.download_music163 import dowload_song"
   ]
  },
  {
   "cell_type": "code",
   "execution_count": 2,
   "outputs": [],
   "source": [
    "features, paths = joblib.load('vec_27_02-38-26.pkl')\n",
    "def getFeature(song_id):\n",
    "    path = './audio/data' + str(song_id // 20000) + \"/\" + str(song_id) + '.mp3'\n",
    "    feature = features[paths.index(path)]\n",
    "    return feature"
   ],
   "metadata": {
    "collapsed": false,
    "pycharm": {
     "name": "#%%\n",
     "is_executing": false
    }
   }
  },
  {
   "cell_type": "code",
   "execution_count": 5,
   "outputs": [],
   "source": [
    "def get_index(feature):\n",
    "    d = len(feature[0])\n",
    "    index = faiss.IndexFlatL2(d)  # the other index\n",
    "    index.add(feature)\n",
    "    return index\n",
    "index = get_index(np.array(features))\n",
    "def search(feature):\n",
    "    D, I = index.search(np.array([feature]), 10)\n",
    "    print(D[0])\n",
    "    for i in range(10):\n",
    "        print(paths(I[0][i]))"
   ],
   "metadata": {
    "collapsed": false,
    "pycharm": {
     "name": "#%%\n",
     "is_executing": false
    }
   }
  },
  {
   "cell_type": "code",
   "execution_count": 6,
   "outputs": [],
   "source": [
    "song1 = 28838040\n",
    "song2 = 308299"
   ],
   "metadata": {
    "collapsed": false,
    "pycharm": {
     "name": "#%%\n",
     "is_executing": false
    }
   }
  },
  {
   "cell_type": "code",
   "execution_count": 8,
   "outputs": [],
   "source": [
    "feature1 = getFeature(song1)\n",
    "feature2 = getFeature(song2)"
   ],
   "metadata": {
    "collapsed": false,
    "pycharm": {
     "name": "#%%\n",
     "is_executing": false
    }
   }
  },
  {
   "cell_type": "code",
   "execution_count": 10,
   "outputs": [
    {
     "name": "stdout",
     "text": [
      "[0.         0.00091331 0.00121649 0.00125079 0.00153561 0.00159941\n 0.00160758 0.00165659 0.00170401 0.00183574]\n19571\n49741\n72605\n66281\n128991\n44703\n144524\n104000\n54173\n106349\n"
     ],
     "output_type": "stream"
    }
   ],
   "source": [
    "search(feature1)"
   ],
   "metadata": {
    "collapsed": false,
    "pycharm": {
     "name": "#%%\n",
     "is_executing": false
    }
   }
  },
  {
   "cell_type": "code",
   "execution_count": 11,
   "outputs": [],
   "source": [
    "feature3 = getFeature(336555)\n"
   ],
   "metadata": {
    "collapsed": false,
    "pycharm": {
     "name": "#%%\n",
     "is_executing": false
    }
   }
  },
  {
   "cell_type": "code",
   "execution_count": null,
   "outputs": [],
   "source": [
    "\n"
   ],
   "metadata": {
    "collapsed": false,
    "pycharm": {
     "name": "#%%\n"
    }
   }
  }
 ],
 "metadata": {
  "language_info": {
   "codemirror_mode": {
    "name": "ipython",
    "version": 2
   },
   "file_extension": ".py",
   "mimetype": "text/x-python",
   "name": "python",
   "nbconvert_exporter": "python",
   "pygments_lexer": "ipython2",
   "version": "2.7.6"
  },
  "kernelspec": {
   "name": "python3",
   "language": "python",
   "display_name": "Python 3"
  },
  "pycharm": {
   "stem_cell": {
    "cell_type": "raw",
    "source": [],
    "metadata": {
     "collapsed": false
    }
   }
  }
 },
 "nbformat": 4,
 "nbformat_minor": 0
}